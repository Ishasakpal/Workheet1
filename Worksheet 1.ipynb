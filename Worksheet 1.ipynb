{
 "cells": [
  {
   "cell_type": "code",
   "execution_count": 2,
   "id": "2c05ddd8-ba8b-4b83-adc3-d5fee0c906b8",
   "metadata": {},
   "outputs": [
    {
     "name": "stdout",
     "output_type": "stream",
     "text": [
      "not\n"
     ]
    }
   ],
   "source": [
    "# 1.Check whether a given number n is both a multiple of 3 and 5, but not divisible by 7. \n",
    "n=20\n",
    "if (n % 3 ==0) and ( n % 5==0) and (n % 7!=0):\n",
    "    print(\"the number is a multiple of 3 and 5,but not divisible by 7.\")\n",
    "else:\n",
    "    print(\"not\")"
   ]
  },
  {
   "cell_type": "code",
   "execution_count": 6,
   "id": "53aed713-fb7e-4c63-b6db-405047e083de",
   "metadata": {},
   "outputs": [
    {
     "name": "stdin",
     "output_type": "stream",
     "text": [
      "enter your bill 700\n"
     ]
    },
    {
     "name": "stdout",
     "output_type": "stream",
     "text": [
      "your bill is: 700\n",
      "your discount is: 0\n",
      "total payable amount is : 700\n"
     ]
    }
   ],
   "source": [
    "#2.\tA store has a discount policy: \n",
    "bill=int(input(\"enter your bill\"))\n",
    "if bill>5000:\n",
    "    discount=bill * 0.2\n",
    "elif bill>=2500 and bill<=5000:\n",
    "    discount=bill * 0.1\n",
    "elif bill>2500 and bill<1000:\n",
    "     discount=bill * 0.05\n",
    "else:\n",
    "    discount=0\n",
    "final_payable_amount = bill- discount\n",
    "print(\"your bill is:\",bill)\n",
    "print(\"your discount is:\",discount)\n",
    "print(\"total payable amount is :\",final_payable_amount)"
   ]
  },
  {
   "cell_type": "code",
   "execution_count": 9,
   "id": "3a5018d8-2e4e-4971-8403-c18b8037f633",
   "metadata": {},
   "outputs": [
    {
     "name": "stdout",
     "output_type": "stream",
     "text": [
      "Addition of odd numbers: 146\n",
      "Multiplication of even numbers: 1641669120\n"
     ]
    }
   ],
   "source": [
    "#15.Take 10 numbers from user. Show:\n",
    "#take 10 numbers from user\n",
    "#sum of only odd numbers\n",
    "#product of even numbers\n",
    "l1=[10,25,12,56,78,58,23,54,51,47]\n",
    "add=0\n",
    "product=1\n",
    "for i in l1:\n",
    "   if i % 2 == 0:\n",
    "      product= product * i\n",
    "   else:\n",
    "       add= add + i\n",
    "print(\"Addition of odd numbers:\",add)\n",
    "print(\"Multiplication of even numbers:\",product) \n"
   ]
  },
  {
   "cell_type": "code",
   "execution_count": 1,
   "id": "29333dd1-2046-499b-9a95-7795ab89b4b0",
   "metadata": {},
   "outputs": [
    {
     "name": "stdin",
     "output_type": "stream",
     "text": [
      "how are you felling? Sad\n",
      "enter a Mood (1/2/3/4): 2\n"
     ]
    },
    {
     "name": "stdout",
     "output_type": "stream",
     "text": [
      "1.Happy\n",
      "2.Sad\n",
      "3.Angry\n",
      "4.Excited\n",
      "hope you feel better soon.\n"
     ]
    }
   ],
   "source": [
    "#5.\tCreate a mini \"Mood Bot\" that accepts a user's mood input (Happy, Sad, Angry, Excited) and responds with a suitable message. \n",
    "mood=input(\"how are you felling?\")\n",
    "mood=int(input(\"enter a Mood (1/2/3/4):\"))\n",
    "print(\"1.Happy\")\n",
    "print(\"2.Sad\")\n",
    "print(\"3.Angry\")\n",
    "print(\"4.Excited\")\n",
    " \n",
    "if mood==1:\n",
    "    print(\"be happy!\")\n",
    "elif mood==2: \n",
    "    print(\"hope you feel better soon.\")\n",
    "elif mood==3:\n",
    "    print(\"calm down,take a breath.\")\n",
    "elif mood==4:\n",
    "    print(\"Enjoy it!\")\n",
    "else:\n",
    "    print(\"mood not recognized\")\n"
   ]
  },
  {
   "cell_type": "code",
   "execution_count": 7,
   "id": "2a1db16b-7e57-4dc4-b639-94860f63fbc1",
   "metadata": {},
   "outputs": [
    {
     "name": "stdin",
     "output_type": "stream",
     "text": [
      "Enter PIN: 1234\n"
     ]
    },
    {
     "name": "stdout",
     "output_type": "stream",
     "text": [
      "Unlocked\n"
     ]
    },
    {
     "name": "stdin",
     "output_type": "stream",
     "text": [
      "Enter PIN: 2323\n"
     ]
    },
    {
     "name": "stdout",
     "output_type": "stream",
     "text": [
      "Access Denied\n"
     ]
    },
    {
     "name": "stdin",
     "output_type": "stream",
     "text": [
      "Enter PIN: 2211\n"
     ]
    },
    {
     "name": "stdout",
     "output_type": "stream",
     "text": [
      "Access Denied\n"
     ]
    }
   ],
   "source": [
    "#14.Ask the user to guess a 4-digit PIN. Allow 3 tries.\n",
    "pin=\"1234\"\n",
    "for i in range(3):\n",
    "    guess=input(\"Enter PIN:\")\n",
    "    if guess==pin:\n",
    "        print(\"Unlocked\")\n",
    "    else:\n",
    "        print(\"Access Denied\")"
   ]
  },
  {
   "cell_type": "code",
   "execution_count": 24,
   "id": "319deac0-049f-4785-8c23-3581be5d77e6",
   "metadata": {},
   "outputs": [
    {
     "name": "stdout",
     "output_type": "stream",
     "text": [
      "53\n",
      "59\n",
      "61\n",
      "67\n",
      "71\n",
      "73\n",
      "79\n",
      "83\n",
      "89\n",
      "97\n"
     ]
    }
   ],
   "source": [
    "#3.Print all prime numbers between 50 and 100\n",
    "for num in range (50,101):\n",
    " count=0\n",
    " for i in range(2,num):\n",
    "     if num % i==0:\n",
    "         count=1\n",
    " if count==0:\n",
    "    print(num)"
   ]
  },
  {
   "cell_type": "code",
   "execution_count": 2,
   "id": "bfd8669c-1359-46fd-8054-41c34c595d2c",
   "metadata": {},
   "outputs": [
    {
     "name": "stdin",
     "output_type": "stream",
     "text": [
      "weight(kg): 65\n",
      "height(m): 12.5\n"
     ]
    },
    {
     "name": "stdout",
     "output_type": "stream",
     "text": [
      "Underweight\n"
     ]
    }
   ],
   "source": [
    "#7.\tBuild a BMI calculator that takes weight and height, computes BMI, and classifies as: \n",
    "w=float(input(\"weight(kg):\"))\n",
    "h=float(input(\"height(m):\"))\n",
    "bmi=w/(h*h)\n",
    "\n",
    "if bmi<18.5:\n",
    "    print(\"Underweight\")\n",
    "elif bmi<25:\n",
    "    print(\"Normal\")\n",
    "elif bmi<30:\n",
    "    print(\"Overweight\")\n",
    "else:\n",
    "    print(\"Obese\")"
   ]
  },
  {
   "cell_type": "code",
   "execution_count": 1,
   "id": "1cf06d63-5600-4f73-8c38-045ef8bc5b2c",
   "metadata": {},
   "outputs": [
    {
     "name": "stdin",
     "output_type": "stream",
     "text": [
      "Enter a number. 3\n"
     ]
    },
    {
     "name": "stdout",
     "output_type": "stream",
     "text": [
      "any number is does not divisible by both 4 and 6.\n"
     ]
    }
   ],
   "source": [
    "#6.Given a list of numbers, check if any number is divisible by both 4 and 6 using a loop and logical operators. \n",
    "num=int(input(\"Enter a number.\"))\n",
    "for i in range (num):\n",
    " if num %4==0 and num %6==0:\n",
    "    print(\"any number is divisible by both 4 and 6.\")\n",
    "else:\n",
    "    print(\"any number is does not divisible by both 4 and 6.\")"
   ]
  },
  {
   "cell_type": "code",
   "execution_count": 2,
   "id": "cbcbf7ec-faf9-4221-880d-96d296caf601",
   "metadata": {},
   "outputs": [
    {
     "name": "stdin",
     "output_type": "stream",
     "text": [
      "Enter elements of list 1:  123\n",
      "Enter elements of list 2:  123\n"
     ]
    },
    {
     "name": "stdout",
     "output_type": "stream",
     "text": [
      "Same elements.\n"
     ]
    }
   ],
   "source": [
    "#12.Input two lists and compare whether their set of elements (regardless of order and duplicates) are the same using operators\n",
    "list1=(input(\"Enter elements of list 1: \"))\n",
    "list2=(input(\"Enter elements of list 2: \"))\n",
    "set1=set(list1)\n",
    "set2=set(list2)\n",
    "if set1==set2:\n",
    "    print(\"Same elements.\")\n",
    "else:\n",
    "    print(\"Different elements.\")"
   ]
  },
  {
   "cell_type": "code",
   "execution_count": null,
   "id": "07be2059-e564-4563-884c-23d34cf2b519",
   "metadata": {},
   "outputs": [],
   "source": []
  }
 ],
 "metadata": {
  "kernelspec": {
   "display_name": "Python 3 (ipykernel)",
   "language": "python",
   "name": "python3"
  },
  "language_info": {
   "codemirror_mode": {
    "name": "ipython",
    "version": 3
   },
   "file_extension": ".py",
   "mimetype": "text/x-python",
   "name": "python",
   "nbconvert_exporter": "python",
   "pygments_lexer": "ipython3",
   "version": "3.12.7"
  }
 },
 "nbformat": 4,
 "nbformat_minor": 5
}
